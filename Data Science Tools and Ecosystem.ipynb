{
 "cells": [
  {
   "cell_type": "markdown",
   "id": "5d90db07",
   "metadata": {},
   "source": [
    "# Exercise 2\n",
    "## Data Science Tools and Ecosystem"
   ]
  },
  {
   "cell_type": "markdown",
   "id": "b36b4a4c",
   "metadata": {},
   "source": [
    "# Exercise 3 \n",
    "## An introduction:\n",
    "### In this notebook, Data Science Tools and Ecosystem are summarized."
   ]
  },
  {
   "cell_type": "markdown",
   "id": "80d55067",
   "metadata": {},
   "source": [
    "# Exercise 10 \n",
    "## Objectives:\n",
    "+ List popular languages for Data Science\n",
    "+ List some of the commonly used libraries used by data scientists\n",
    "+ Create a table of Data Science tools\n",
    "+ Few examples of evaluating arithmetic expressions in Python"
   ]
  },
  {
   "cell_type": "markdown",
   "id": "dc8c5ebf",
   "metadata": {},
   "source": [
    "# Exercise 4\n",
    "## Data Science Languages:\n",
    "### Some of the popular languages that Data Scientists use are:\n",
    "\n",
    "1. Python\n",
    "2. R\n",
    "3. Julia\n",
    "4. Scala\n",
    "5. Sparks\n",
    "6. Ruby\n",
    "8. Lisp"
   ]
  },
  {
   "cell_type": "markdown",
   "id": "6bca61a6",
   "metadata": {},
   "source": [
    "# Exercise 5\n",
    "## Data Science Libraries:\n",
    "### Some of the commonly used libraries used by Data Scientists include:\n",
    "\n",
    "1. NumPy\n",
    "2. Pandas\n",
    "3. Matplotlib\n",
    "4. Seaborn\n",
    "5. Sklearn\n"
   ]
  },
  {
   "cell_type": "markdown",
   "id": "1f596caa",
   "metadata": {},
   "source": [
    "# Exercise 6\n",
    "## A Table of Data Science tools\n",
    "### Some of the popular languages that Data Scientists use are:\n",
    "\n",
    "| Data Science Tools |\n",
    "| -------------|\n",
    "| Python|\n",
    "| R|\n",
    "| Git|\n",
    "| GitHub|"
   ]
  },
  {
   "cell_type": "markdown",
   "id": "ba932888",
   "metadata": {},
   "source": [
    "## Exercise 7 \n",
    "## Introducing Arithmetic Expression Examples\n",
    "### Below are a few examples of evaluating arithmetic expressions in Python\n"
   ]
  },
  {
   "cell_type": "code",
   "execution_count": 1,
   "id": "27751103",
   "metadata": {},
   "outputs": [
    {
     "data": {
      "text/plain": [
       "17"
      ]
     },
     "execution_count": 1,
     "metadata": {},
     "output_type": "execute_result"
    }
   ],
   "source": [
    "# This a simple arithmetic expression to mutiply then add integers\n",
    "(3*4)+5"
   ]
  },
  {
   "cell_type": "code",
   "execution_count": 2,
   "id": "a261b3e8",
   "metadata": {},
   "outputs": [
    {
     "data": {
      "text/plain": [
       "3.3333333333333335"
      ]
     },
     "execution_count": 2,
     "metadata": {},
     "output_type": "execute_result"
    }
   ],
   "source": [
    "# This will convert 200 minutes to hours by diving by 60\n",
    "200/60"
   ]
  },
  {
   "cell_type": "markdown",
   "id": "98a54562",
   "metadata": {},
   "source": [
    "# Exercise 11\n",
    "## Author\n",
    "### Rameshwar Belnor"
   ]
  }
 ],
 "metadata": {
  "kernelspec": {
   "display_name": "Python 3 (ipykernel)",
   "language": "python",
   "name": "python3"
  },
  "language_info": {
   "codemirror_mode": {
    "name": "ipython",
    "version": 3
   },
   "file_extension": ".py",
   "mimetype": "text/x-python",
   "name": "python",
   "nbconvert_exporter": "python",
   "pygments_lexer": "ipython3",
   "version": "3.9.13"
  }
 },
 "nbformat": 4,
 "nbformat_minor": 5
}
