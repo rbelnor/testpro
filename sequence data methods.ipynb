{
 "cells": [
  {
   "cell_type": "markdown",
   "id": "684f09fc",
   "metadata": {},
   "source": [
    "# General Sequence Data Methods"
   ]
  },
  {
   "cell_type": "code",
   "execution_count": 4,
   "id": "a5248577",
   "metadata": {},
   "outputs": [],
   "source": [
    "import numpy as np"
   ]
  },
  {
   "cell_type": "code",
   "execution_count": 5,
   "id": "0a650548",
   "metadata": {},
   "outputs": [],
   "source": [
    "arr = np.array([[[1, 2, 3], [4, 5, 6], [7, 8, 9]]])"
   ]
  },
  {
   "cell_type": "code",
   "execution_count": 6,
   "id": "44355ec4",
   "metadata": {},
   "outputs": [
    {
     "name": "stdout",
     "output_type": "stream",
     "text": [
      "[4 5 6]\n"
     ]
    }
   ],
   "source": [
    "print(arr[0][1])"
   ]
  },
  {
   "cell_type": "code",
   "execution_count": 7,
   "id": "e45dd81a",
   "metadata": {},
   "outputs": [],
   "source": [
    "s={1,2,4,5}\n",
    "l=[]\n",
    "for i in range(len(s)):\n",
    "    l +=[1+i]"
   ]
  },
  {
   "cell_type": "code",
   "execution_count": 8,
   "id": "1eece2b8",
   "metadata": {},
   "outputs": [
    {
     "name": "stdout",
     "output_type": "stream",
     "text": [
      "[1, 2, 3, 4]\n"
     ]
    }
   ],
   "source": [
    "print(l)"
   ]
  },
  {
   "cell_type": "code",
   "execution_count": 10,
   "id": "0f0a5328",
   "metadata": {},
   "outputs": [],
   "source": [
    "arr = np.array(np.arange(0,15))"
   ]
  },
  {
   "cell_type": "code",
   "execution_count": 12,
   "id": "e2b8721c",
   "metadata": {},
   "outputs": [
    {
     "name": "stdout",
     "output_type": "stream",
     "text": [
      "[[ 0  1  2  3  4]\n",
      " [ 5  6  7  8  9]\n",
      " [10 11 12 13 14]]\n"
     ]
    }
   ],
   "source": [
    "print(arr.reshape(3,5))"
   ]
  },
  {
   "cell_type": "code",
   "execution_count": 16,
   "id": "df3dc5a4",
   "metadata": {},
   "outputs": [
    {
     "name": "stdout",
     "output_type": "stream",
     "text": [
      "My friends house is in Chennai\n"
     ]
    }
   ],
   "source": [
    "place =\"Chennai\"\n",
    "print(\"My friends house is in {}\".format(\"Chennai\"))"
   ]
  },
  {
   "cell_type": "code",
   "execution_count": 19,
   "id": "aeabf008",
   "metadata": {},
   "outputs": [
    {
     "name": "stdout",
     "output_type": "stream",
     "text": [
      "7\n"
     ]
    }
   ],
   "source": [
    "t1=(1,2,\"tuple\",4)\n",
    "t2=(5,6,7)\n",
    "x=t2[t1[1]]\n",
    "print (x)"
   ]
  },
  {
   "cell_type": "code",
   "execution_count": 22,
   "id": "993eae62",
   "metadata": {},
   "outputs": [
    {
     "name": "stdout",
     "output_type": "stream",
     "text": [
      "([1, 2, 'tuple', 4], [5, 6, 7])\n"
     ]
    }
   ],
   "source": [
    "t3=(list(t1), list(t2))\n",
    "print (t3)"
   ]
  },
  {
   "cell_type": "code",
   "execution_count": 23,
   "id": "a2757c55",
   "metadata": {},
   "outputs": [
    {
     "ename": "AttributeError",
     "evalue": "'tuple' object has no attribute 'append'",
     "output_type": "error",
     "traceback": [
      "\u001b[1;31m---------------------------------------------------------------------------\u001b[0m",
      "\u001b[1;31mAttributeError\u001b[0m                            Traceback (most recent call last)",
      "Cell \u001b[1;32mIn[23], line 1\u001b[0m\n\u001b[1;32m----> 1\u001b[0m t1\u001b[38;5;241m.\u001b[39mappend(\u001b[38;5;241m5\u001b[39m)\n\u001b[0;32m      2\u001b[0m \u001b[38;5;28mprint\u001b[39m (t1)\n",
      "\u001b[1;31mAttributeError\u001b[0m: 'tuple' object has no attribute 'append'"
     ]
    }
   ],
   "source": [
    "t1.append(5)\n",
    "print (t1)"
   ]
  },
  {
   "cell_type": "code",
   "execution_count": 24,
   "id": "7f76a228",
   "metadata": {},
   "outputs": [
    {
     "name": "stdout",
     "output_type": "stream",
     "text": [
      "{1: 'Pyhton', 2: [1, 2, 3], 'one': 1}\n"
     ]
    }
   ],
   "source": [
    "d={1:\"Pyhton\",2:[1,2,3]}\n",
    "d[\"one\"]=1\n",
    "print (d)"
   ]
  },
  {
   "cell_type": "code",
   "execution_count": 26,
   "id": "e97342d8",
   "metadata": {},
   "outputs": [
    {
     "name": "stdout",
     "output_type": "stream",
     "text": [
      "{1: 'Pyhton', 2: [1, 2, 3], 'one': 2}\n"
     ]
    }
   ],
   "source": [
    "d={1:\"Pyhton\",2:[1,2,3]}\n",
    "d. update({'one' : 2})\n",
    "print (d)"
   ]
  },
  {
   "cell_type": "code",
   "execution_count": 27,
   "id": "88aa5290",
   "metadata": {},
   "outputs": [],
   "source": [
    "student = {'name': 'Jane', 'age': 25, 'courses': ['Math', 'Statistics']}"
   ]
  },
  {
   "cell_type": "code",
   "execution_count": 31,
   "id": "44382d59",
   "metadata": {},
   "outputs": [
    {
     "name": "stdout",
     "output_type": "stream",
     "text": [
      "{'name': 'Jane', 'age': 26, 'courses': ['Math', 'Statistics'], 'phone': '123-456'}\n"
     ]
    }
   ],
   "source": [
    "student['phone'] = '123-456'\n",
    "student.update({'age' : 26})\n",
    "print (student)"
   ]
  },
  {
   "cell_type": "code",
   "execution_count": 32,
   "id": "4b57d1bc",
   "metadata": {},
   "outputs": [
    {
     "name": "stdout",
     "output_type": "stream",
     "text": [
      "['M', 'A', 'H', 'E', 'S', 'H']\n"
     ]
    }
   ],
   "source": [
    "s=\"Mahesh\"\n",
    "l=[]\n",
    "for i in s:\n",
    "    l.append(i.capitalize())\n",
    "print (l)    "
   ]
  },
  {
   "cell_type": "code",
   "execution_count": null,
   "id": "7a78e440",
   "metadata": {},
   "outputs": [],
   "source": []
  },
  {
   "cell_type": "code",
   "execution_count": null,
   "id": "03a2258c",
   "metadata": {},
   "outputs": [],
   "source": []
  }
 ],
 "metadata": {
  "kernelspec": {
   "display_name": "Python 3 (ipykernel)",
   "language": "python",
   "name": "python3"
  },
  "language_info": {
   "codemirror_mode": {
    "name": "ipython",
    "version": 3
   },
   "file_extension": ".py",
   "mimetype": "text/x-python",
   "name": "python",
   "nbconvert_exporter": "python",
   "pygments_lexer": "ipython3",
   "version": "3.11.3"
  }
 },
 "nbformat": 4,
 "nbformat_minor": 5
}
